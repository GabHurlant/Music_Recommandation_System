{
 "cells": [
  {
   "cell_type": "markdown",
   "metadata": {},
   "source": [
    "<H1 align = \"center\">Spotify Recommendation System</H1>\n",
    "<H2 align = \"center\">\n",
    "<img src=\"https://developer.spotify.com/assets/branding-guidelines/logo.png\" width=\"300\" height=\"200\" align=\"middle\">\n",
    "    </H2>\n",
    " <H3 align = \"center\">by Randy Williams</H3>"
   ]
  },
  {
   "cell_type": "markdown",
   "metadata": {},
   "source": [
    "\n",
    "# <H2 align = \"center\">Introduction</H2>\n",
    "\n",
    "#### The purpose of this notebook is to demonstrate my Implimentation of a python based recommendation system using a similarity algorithm. The general outline of the process will be:\n",
    "\n",
    "- Define and establish client credentials with your spotify developers account\n",
    "- Define a source playlist that is the users favorites and a search playlist to examine for recommendations\n",
    "- Build functions to extract audio features from a playlist and genre\n",
    "- Define a function for creating a similarity score (we will use cosine similarity)\n",
    "- Define a function for returning a data frame of recommendations\n",
    "- Compare recommendations when Hot Encoding genre or using only audio features\n",
    "- Simplify the process by building a pipeline function\n",
    "\n"
   ]
  },
  {
   "cell_type": "markdown",
   "metadata": {},
   "source": [
    "\n",
    "# <H3 align = \"center\">1. Setup libraries and client and playlist variables</H3>\n",
    "\n",
    "#### In order to run this notebook it is necessary to setup a free spotify developers account and obtain your client_id and your client_secret code. If not already completed:\n",
    "\n",
    "- Resister as a developer at developer.spotify.com\n",
    "- Create an app and click on edit settings then obtain your Client ID and Client secret codes."
   ]
  },
  {
   "cell_type": "code",
   "execution_count": null,
   "metadata": {
    "execution": {
     "iopub.execute_input": "2022-01-06T22:38:04.995448Z",
     "iopub.status.busy": "2022-01-06T22:38:04.995186Z",
     "iopub.status.idle": "2022-01-06T22:38:12.076242Z",
     "shell.execute_reply": "2022-01-06T22:38:12.075393Z",
     "shell.execute_reply.started": "2022-01-06T22:38:04.995424Z"
    },
    "trusted": true
   },
   "outputs": [],
   "source": [
    "# install the spotify API if needed\n",
    "!pip install spotipy"
   ]
  },
  {
   "cell_type": "code",
   "execution_count": 1,
   "metadata": {
    "execution": {
     "iopub.execute_input": "2022-01-06T22:38:12.078388Z",
     "iopub.status.busy": "2022-01-06T22:38:12.078087Z",
     "iopub.status.idle": "2022-01-06T22:38:12.08427Z",
     "shell.execute_reply": "2022-01-06T22:38:12.083605Z",
     "shell.execute_reply.started": "2022-01-06T22:38:12.078348Z"
    },
    "trusted": true
   },
   "outputs": [
    {
     "ename": "ModuleNotFoundError",
     "evalue": "No module named 'spotipy'",
     "output_type": "error",
     "traceback": [
      "\u001b[1;31m---------------------------------------------------------------------------\u001b[0m",
      "\u001b[1;31mModuleNotFoundError\u001b[0m                       Traceback (most recent call last)",
      "Cell \u001b[1;32mIn[1], line 2\u001b[0m\n\u001b[0;32m      1\u001b[0m \u001b[38;5;66;03m# load the libraries needed for the recommendation system\u001b[39;00m\n\u001b[1;32m----> 2\u001b[0m \u001b[38;5;28;01mimport\u001b[39;00m \u001b[38;5;21;01mspotipy\u001b[39;00m\n\u001b[0;32m      3\u001b[0m \u001b[38;5;28;01mfrom\u001b[39;00m \u001b[38;5;21;01mspotipy\u001b[39;00m\u001b[38;5;21;01m.\u001b[39;00m\u001b[38;5;21;01moauth2\u001b[39;00m \u001b[38;5;28;01mimport\u001b[39;00m SpotifyClientCredentials\n\u001b[0;32m      4\u001b[0m \u001b[38;5;28;01mfrom\u001b[39;00m \u001b[38;5;21;01mspotipy\u001b[39;00m\u001b[38;5;21;01m.\u001b[39;00m\u001b[38;5;21;01moauth2\u001b[39;00m \u001b[38;5;28;01mimport\u001b[39;00m SpotifyOAuth \u001b[38;5;66;03m# this not used in this notebook but it allows username authentication\u001b[39;00m\n",
      "\u001b[1;31mModuleNotFoundError\u001b[0m: No module named 'spotipy'"
     ]
    }
   ],
   "source": [
    "# load the libraries needed for the recommendation system\n",
    "import spotipy\n",
    "from spotipy.oauth2 import SpotifyClientCredentials\n",
    "from spotipy.oauth2 import SpotifyOAuth # this not used in this notebook but it allows username authentication\n",
    "import pandas as pd\n",
    "import numpy as np\n",
    "import seaborn as sns\n",
    "from sklearn.preprocessing import MinMaxScaler\n",
    "from sklearn.preprocessing import StandardScaler\n",
    "from sklearn.metrics.pairwise import cosine_similarity\n",
    "from sklearn.preprocessing import OneHotEncoder"
   ]
  },
  {
   "cell_type": "markdown",
   "metadata": {},
   "source": [
    "### *NOTE!*\n",
    "The client_id and client_secret below were temporary Id's created to make this notebook. The developer app with these codes has been changed so it is important to replace those Id's with your own in order to make the notebook function. Remember, never share your credentials!"
   ]
  },
  {
   "cell_type": "code",
   "execution_count": null,
   "metadata": {
    "execution": {
     "iopub.execute_input": "2022-01-06T22:38:12.086014Z",
     "iopub.status.busy": "2022-01-06T22:38:12.085742Z",
     "iopub.status.idle": "2022-01-06T22:38:12.098684Z",
     "shell.execute_reply": "2022-01-06T22:38:12.097804Z",
     "shell.execute_reply.started": "2022-01-06T22:38:12.085974Z"
    },
    "trusted": true
   },
   "outputs": [],
   "source": [
    "# Define environment variables\n",
    "client_id = '1101196291e049e6952dd1bc5a0168f9' #replace with your client ID\n",
    "client_secret = '84825c00e5ff47d0af375decc567860a'#replace with your client secret\n",
    "playlist_personal = '73foPknywpV4l8EdymN68r' #customize to your playlists, this is my test playlist\n",
    "playlist_compare = '4LZtDy62wDvQ4o8JB4UrcR' # Customize to the playlist you want to compare, this is the BB top 200\n"
   ]
  },
  {
   "cell_type": "code",
   "execution_count": null,
   "metadata": {
    "execution": {
     "iopub.execute_input": "2022-01-06T22:38:12.101737Z",
     "iopub.status.busy": "2022-01-06T22:38:12.101438Z",
     "iopub.status.idle": "2022-01-06T22:38:12.116225Z",
     "shell.execute_reply": "2022-01-06T22:38:12.115493Z",
     "shell.execute_reply.started": "2022-01-06T22:38:12.101699Z"
    },
    "trusted": true
   },
   "outputs": [],
   "source": [
    "# authenticate the user without the username, this method allows the user to only read data from spotify\n",
    "client_credentials_manager = SpotifyClientCredentials(client_id=client_id, client_secret=client_secret)\n",
    "sp = spotipy.Spotify(client_credentials_manager = client_credentials_manager)"
   ]
  },
  {
   "cell_type": "markdown",
   "metadata": {},
   "source": [
    "\n",
    "# <H2 align = \"center\">2. Define the functions</H2>\n",
    "\n",
    "- First, a function to extract the playlist data into the desired pandas frame format with audio features if it is desired to include genre in the return data frame the genre=True is specified.\n",
    "- Second, a function that will create a similaity matrix between the 2 playlists.\n",
    "- Third a function for hot encoding\n",
    "- Fourth a function for making reccomendations using the similarity matrix.\n",
    "- Finally a simple function to pipeline the plalists with a single command.\n",
    "\n",
    "##### Portions of the origianal source code for these functions before my modifications and additionas can be found at Towards Data Science from Merlin Shaefer at https://towardsdatascience.com/using-python-to-refine-your-spotify-recommendations-6dc08bcf408e\n",
    "\n",
    "<H3 align = \"center\">Spotify genre data</H3>\n",
    "\n",
    "##### Some important things to note is how spotify tags genres to songs. Each song can be tagged with multiple genres. This is problematic because the genre data we extract will be variable. Additionaly, there is a large number of generes that can be defined or tagged to each song. The distincion between genre types can be subjective in some cases. We are also worried about cardinality. Since One Hot encoding creates a column for each item we could easily add a large amount of columns with minimal benefit. I will explore cardinality for genre more. For this function, we will extract only the first genre listed. I consider it the most relevant becuase the first genre listed to a song is the genre the artist fits into generally."
   ]
  },
  {
   "cell_type": "code",
   "execution_count": null,
   "metadata": {
    "execution": {
     "iopub.execute_input": "2022-01-06T22:38:12.122425Z",
     "iopub.status.busy": "2022-01-06T22:38:12.12166Z",
     "iopub.status.idle": "2022-01-06T22:38:12.138171Z",
     "shell.execute_reply": "2022-01-06T22:38:12.137427Z",
     "shell.execute_reply.started": "2022-01-06T22:38:12.122379Z"
    },
    "trusted": true
   },
   "outputs": [],
   "source": [
    "# Define a function for extracting and processing playlists\n",
    "def feature_extract(plist1,genre=False):\n",
    "    \"\"\" \n",
    "    Extracts a pandas playlist based on the desired audio features from a spotify playlist input\n",
    "    'danceability',  'energy', 'key', 'loudness', 'mode', 'speechiness', \n",
    "    'acousticness', 'instrumentalness', 'liveness',\n",
    "    'valence', 'tempo', 'type', 'id', 'uri', 'track_href',\n",
    "    'analysis_url', 'duration_ms', 'time_signature'\n",
    "    if true is specified then 'genre' is also extracted\n",
    "    \"\"\"\n",
    "    playlist_link = \"https://open.spotify.com/playlist/\"+plist1\n",
    "    playlist_URI = playlist_link.split(\"/\")[-1].split(\"?\")[0]\n",
    "    track_uris = [x[\"track\"][\"uri\"] for x in sp.playlist_tracks(playlist_URI)[\"items\"]]\n",
    "    \n",
    "    #Define the Playlist variable\n",
    "    p_list=pd.DataFrame(columns=['danceability',  'energy', 'key', 'loudness', 'mode', 'speechiness', 'acousticness', 'instrumentalness', 'liveness',\n",
    "    'valence', 'tempo', 'type', 'id', 'uri', 'track_href', 'analysis_url', 'duration_ms', 'time_signature'])\n",
    "    \n",
    "    \n",
    "    #Extract data from the selected playlist\n",
    "    # it is important to note that i left the original code for extracting information\n",
    "    # However in this implimentation I am only going to extract audio features for the return frame\n",
    "    # This code could be further modified to return more data\n",
    "    \n",
    "    track_list=[]\n",
    "    track_genre=[]\n",
    "    for track in sp.playlist_tracks(playlist_URI)[\"items\"]:\n",
    "         #URI\n",
    "        track_uri = track[\"track\"][\"uri\"]\n",
    "    \n",
    "        #Track name\n",
    "        track_name = track[\"track\"][\"name\"]\n",
    "        track_list.append(track_name)\n",
    "        \n",
    "         #Main Artist\n",
    "        artist_uri = track[\"track\"][\"artists\"][0][\"uri\"]\n",
    "        artist_info = sp.artist(artist_uri)\n",
    "    \n",
    "        #Name, popularity, genre\n",
    "        artist_name = track[\"track\"][\"artists\"][0][\"name\"]\n",
    "        artist_pop = artist_info[\"popularity\"]\n",
    "        artist_genres = artist_info[\"genres\"]\n",
    "        if genre==True:\n",
    "             track_genre.append(artist_genres)\n",
    "        #Album\n",
    "        album = track[\"track\"][\"album\"][\"name\"]\n",
    "    \n",
    "        #Popularity of the track\n",
    "        track_pop = track[\"track\"][\"popularity\"]\n",
    "        \n",
    "        #Audio features - this will be extracted\n",
    "        temp_list=sp.audio_features(track_uri)\n",
    "        my_favs_temp=pd.DataFrame(temp_list, columns=['danceability',  'energy', 'key', 'loudness', 'mode', 'speechiness', 'acousticness', 'instrumentalness', 'liveness',\n",
    "        'valence', 'tempo', 'type', 'id', 'uri', 'track_href', 'analysis_url', 'duration_ms', 'time_signature'])\n",
    "        p_list=pd.concat([my_favs_temp, p_list], axis=0) # add together each frame per iteration\n",
    "        p_list.reset_index(drop=True, inplace=True)\n",
    "        \n",
    "    #Create the track list\n",
    "    \n",
    "    track_names=pd.DataFrame(track_list, columns=['track_name'])\n",
    "    track_names=track_names[::-1].reset_index(drop=True)\n",
    "    \n",
    "    #Create the Genres list if applicable\n",
    "    if genre==True:\n",
    "        track_genere2= [item[0] for item in track_genre] # loop extracts only the first genre element\n",
    "        genre_names=pd.DataFrame(track_genere2, columns=['genre'])\n",
    "        genre_names=genre_names[::-1].reset_index(drop=True) #reverse the list order\n",
    "        \n",
    "    #Add columns to the return list\n",
    "    p_list['track_names']=track_names['track_name']\n",
    "    #If we have included genres then we need to Hot Encode them and concat to the return list\n",
    "    if genre==True:\n",
    "        p_list['genre']=genre_names['genre']\n",
    "    return p_list"
   ]
  },
  {
   "cell_type": "markdown",
   "metadata": {},
   "source": [
    "<H3 align = \"center\">Similarity function</H3>\n",
    "\n",
    "- This function will utilize the cosine similarity feature from sikit learn. Other similarity algorithms could be substituted and experimented with. \n",
    "- Prior to passing the data into the similarity algorithm it will also be normalized.\n"
   ]
  },
  {
   "cell_type": "markdown",
   "metadata": {},
   "source": [
    "<H3 align = \"center\">For more information on the mathematics of similarity algorithms</H3>\n",
    "<H4 align = \"center\">\n",
    "<div class=\"ephox-summary-card\" style=\"max-width: 500px;\" align=\"center\" data-ephox-embed-iri=\"https://medium.com/@sasi24/cosine-similarity-vs-euclidean-distance-e5d9a9375fc8\"><a class=\"ephox-summary-card-link-thumbnail\" href=\"https://medium.com/@sasi24/cosine-similarity-vs-euclidean-distance-e5d9a9375fc8\"> <img class=\"ephox-summary-card-thumbnail\" src=\"https://miro.medium.com/max/1400/0*MWuD1-9QA7wuPYHU\" /> </a> <a class=\"ephox-summary-card-link\" href=\"Cosine Similarity Vs Euclidean Distance\"> <span class=\"ephox-summary-card-title\">Cosine Similarity Vs Euclidean Distance</span>  <span class=\"ephox-summary-card-author\">Vijaya Sasidhar Nagella</span>  </a></div>\n",
    "</H4>"
   ]
  },
  {
   "cell_type": "code",
   "execution_count": null,
   "metadata": {
    "execution": {
     "iopub.execute_input": "2022-01-06T22:38:12.139672Z",
     "iopub.status.busy": "2022-01-06T22:38:12.139472Z",
     "iopub.status.idle": "2022-01-06T22:38:12.156191Z",
     "shell.execute_reply": "2022-01-06T22:38:12.155396Z",
     "shell.execute_reply.started": "2022-01-06T22:38:12.139648Z"
    },
    "trusted": true
   },
   "outputs": [],
   "source": [
    "def create_similarity_score(df1,df2,similarity_score = \"cosine_sim\"):\n",
    "    \"\"\" \n",
    "    Creates a similarity matrix for the audio features of two Dataframes.\n",
    "    Parameters\n",
    "    ----------\n",
    "    df1 : DataFrame containing danceability, energy, key, loudness,\tmode, speechiness, acousticness, instrumentalness,\n",
    "    \tliveness, valence, tempo, id, track_name, and if specified hot encoded genre\n",
    "    df2 : DataFrame containing danceability, energy, key, loudness,\tmode, speechiness, acousticness, instrumentalness,\n",
    "    \tliveness, valence, tempo, id, track_name, and if specified hot encoded genre\n",
    "    \n",
    "    similarity_score: similarity measure (linear,cosine_sim)\n",
    "    \n",
    "    Returns\n",
    "    -------\n",
    "    A matrix of similarity scores for the audio features of both DataFrames.\n",
    "    \"\"\"\n",
    "    \n",
    "    features = list(df1.columns)\n",
    "    features.remove('id') #remove Id since it is not a feature\n",
    "    features.remove('track_names') #remove Id since it is not a feature\n",
    "    df_features1,df_features2 = df1[features],df2[features]\n",
    "    scaler = StandardScaler() #Scale the data for input into the similarity function\n",
    "    df_features_scaled1,df_features_scaled2 = scaler.fit_transform(df_features1),scaler.fit_transform(df_features2)\n",
    "    if similarity_score == \"linear\":\n",
    "        linear_sim = linear_kernel(df_features_scaled1, df_features_scaled2)\n",
    "        return linear_sim\n",
    "    elif similarity_score == \"cosine_sim\":\n",
    "        cosine_sim = cosine_similarity(df_features_scaled1, df_features_scaled2)\n",
    "        return cosine_sim\n"
   ]
  },
  {
   "cell_type": "markdown",
   "metadata": {},
   "source": [
    "<H3 align = \"center\">Hot Encoding Function</H3>\n",
    "\n",
    "- If genre is selected then One Hot Encoding is required\n"
   ]
  },
  {
   "cell_type": "code",
   "execution_count": null,
   "metadata": {
    "execution": {
     "iopub.execute_input": "2022-01-06T22:38:12.158239Z",
     "iopub.status.busy": "2022-01-06T22:38:12.157806Z",
     "iopub.status.idle": "2022-01-06T22:38:12.182125Z",
     "shell.execute_reply": "2022-01-06T22:38:12.181251Z",
     "shell.execute_reply.started": "2022-01-06T22:38:12.158192Z"
    },
    "trusted": true
   },
   "outputs": [],
   "source": [
    "def genre_encode(plist):\n",
    "    \"\"\"\n",
    "    Takes a feature extracted data frame with a genre column and hot encodes it with \n",
    "    the OneHotEncoder function\n",
    "    \n",
    "    Returns a fame of columns containing the numerical data\n",
    "    \"\"\"\n",
    "    \n",
    "    # initiate the encoder\n",
    "    OH_encoder=OneHotEncoder(handle_unknown='ignore', sparse=False)\n",
    "    #Distill each list to the genre columns\n",
    "    Genre_List=plist['genre']\n",
    "    Genre_Reshape=Genre_List.values.reshape(-1,1) #This is important becuase of the way the Encoder expects the input.\n",
    "    OH_genre=pd.DataFrame(OH_encoder.fit_transform(Genre_Reshape))\n",
    "    OH_genre.index = Genre_List.index #re-index extracted Hot Encoding\n",
    "    # return_frame = pd.concat([OH_genre, plist], axis=1)\n",
    "    return OH_genre # return the Hot Encoded Column"
   ]
  },
  {
   "cell_type": "markdown",
   "metadata": {},
   "source": [
    "<H3 align = \"center\">Recommendation Function</H3>\n",
    "\n",
    "- This function will return a data frame with recommendations using similarity scores\n",
    "- This function will trim the results into track name and track Id"
   ]
  },
  {
   "cell_type": "code",
   "execution_count": null,
   "metadata": {
    "execution": {
     "iopub.execute_input": "2022-01-06T22:38:12.183996Z",
     "iopub.status.busy": "2022-01-06T22:38:12.183399Z",
     "iopub.status.idle": "2022-01-06T22:38:12.200317Z",
     "shell.execute_reply": "2022-01-06T22:38:12.199439Z",
     "shell.execute_reply.started": "2022-01-06T22:38:12.183963Z"
    },
    "trusted": true
   },
   "outputs": [],
   "source": [
    "def recommend_tracks(plist1,plist2, genre=False): \n",
    "    \"\"\"\n",
    "    Takes the processed data frames from the feature extract function cleans the data to be only the\n",
    "    numerical columns and then feeds the numerical frame into the similarity function.\n",
    "    \n",
    "    Return\n",
    "    A dataframe of recommendations with track name and id\n",
    "\n",
    "    \"\"\"\n",
    "    # if we added genres then we need to Hot Encode them and combine them with the return dataframe\n",
    "    # we also need to drop the features we are not encoding\n",
    "    if genre==True:\n",
    "        oh_list1=genre_encode(plist1)\n",
    "        oh_list2=genre_encode(plist2)\n",
    "        plist1=plist1.drop(['type','uri','track_href','analysis_url','duration_ms', 'time_signature','genre'],axis=1)\n",
    "        plist2=plist2.drop(['type','uri','track_href','analysis_url','duration_ms', 'time_signature','genre'],axis=1)\n",
    "        Track_Input = pd.concat([oh_list1, plist1], axis=1)\n",
    "        Track_Input_compare = pd.concat([oh_list2, plist2], axis=1)\n",
    "    else:\n",
    "        Track_Input=plist1.drop(['type','uri','track_href','analysis_url','duration_ms', 'time_signature'],axis=1)\n",
    "        Track_Input_compare=plist2.drop(['type','uri','track_href','analysis_url','duration_ms', 'time_signature'],axis=1)\n",
    "        \n",
    "    #create similarity scoring between playlist and recommendations\n",
    "    similarity_score = create_similarity_score(Track_Input,Track_Input_compare)\n",
    "    \n",
    "    #get filtered recommendations\n",
    "    final_recomms = Track_Input_compare.iloc[[np.argmax(i) for i in similarity_score]]\n",
    "    final_recomms = final_recomms.drop_duplicates()\n",
    "    \n",
    "    #filter again so tracks are not already in playlist_df\n",
    "    final_recomms = final_recomms[~final_recomms[\"id\"].isin(Track_Input[\"id\"])]\n",
    "    final_recomms.reset_index(drop = True, inplace = True)\n",
    "    #trim the results to id and track name\n",
    "    final_recomms_return =final_recomms.loc[:, ['track_names','id']]\n",
    "    return final_recomms_return\n",
    "    "
   ]
  },
  {
   "cell_type": "markdown",
   "metadata": {},
   "source": [
    "<H3 align = \"center\">Cardinality</H3>\n",
    "\n",
    "Before I work on making the pipline and getting recommendations, I want to look at the cardinality of the Hot Encoding to ensure that the size of the dataframe isn't excessive when encodeing genres. "
   ]
  },
  {
   "cell_type": "code",
   "execution_count": null,
   "metadata": {
    "execution": {
     "iopub.execute_input": "2022-01-06T22:38:12.202042Z",
     "iopub.status.busy": "2022-01-06T22:38:12.201666Z",
     "iopub.status.idle": "2022-01-06T22:38:13.501244Z",
     "shell.execute_reply": "2022-01-06T22:38:13.500498Z",
     "shell.execute_reply.started": "2022-01-06T22:38:12.20199Z"
    },
    "trusted": true
   },
   "outputs": [],
   "source": [
    "my_favorites=feature_extract(playlist_personal, genre=True) #create a dataframe from my playlist\n",
    "my_favorites['genre'].unique() # examine the number of genres"
   ]
  },
  {
   "cell_type": "code",
   "execution_count": null,
   "metadata": {
    "execution": {
     "iopub.execute_input": "2022-01-06T22:38:13.503221Z",
     "iopub.status.busy": "2022-01-06T22:38:13.502989Z",
     "iopub.status.idle": "2022-01-06T22:38:15.372742Z",
     "shell.execute_reply": "2022-01-06T22:38:15.37194Z",
     "shell.execute_reply.started": "2022-01-06T22:38:13.503195Z"
    },
    "trusted": true
   },
   "outputs": [],
   "source": [
    "# the same for the comparison playlist\n",
    "bb_200=feature_extract(playlist_compare, genre=True) #create a dataframe from the comparison playlist\n",
    "bb_200['genre'].unique() # examine the number of genres"
   ]
  },
  {
   "cell_type": "markdown",
   "metadata": {},
   "source": [
    "my playlist has 10 unique genres and the BB top 200 has 23 unique genres. This is probably not an excessive amount of additional columns. So next we will get the recommendations."
   ]
  },
  {
   "cell_type": "markdown",
   "metadata": {},
   "source": [
    "\n",
    "# <H2 align = \"center\">3. Define the pipeline function</H2>\n",
    "\n",
    "#### The processing sequence is as follows\n",
    "- Extract the playlists into DataFrames\n",
    "- Process the playlist for reccomendations using the similarity function and hot encoding if applicable\n",
    "- Return the reccomendations to a DataFrame\n",
    "\n",
    "The functions were built so it would be easy to make a pipeline function and get the final results with a single command."
   ]
  },
  {
   "cell_type": "code",
   "execution_count": null,
   "metadata": {
    "execution": {
     "iopub.execute_input": "2022-01-06T22:38:15.37414Z",
     "iopub.status.busy": "2022-01-06T22:38:15.373894Z",
     "iopub.status.idle": "2022-01-06T22:38:15.378758Z",
     "shell.execute_reply": "2022-01-06T22:38:15.378035Z",
     "shell.execute_reply.started": "2022-01-06T22:38:15.374113Z"
    },
    "trusted": true
   },
   "outputs": [],
   "source": [
    "def Spotify_AI(playlist_personal,playlist_compare, genre_in=False):\n",
    "    my_favorites=feature_extract(playlist_personal, genre=genre_in) #my favorite as a dataframe\n",
    "    comparison_list=feature_extract(playlist_compare, genre=genre_in) #Comparison playlist as a dataframe\n",
    "    results=recommend_tracks(my_favorites,comparison_list,genre=genre_in)\n",
    "    return results\n",
    "    "
   ]
  },
  {
   "cell_type": "markdown",
   "metadata": {},
   "source": [
    "\n",
    "# <H2 align = \"center\">4. Test run the algorithm</H2>\n",
    "\n",
    "- First without genre\n",
    "- Second with genre"
   ]
  },
  {
   "cell_type": "code",
   "execution_count": null,
   "metadata": {
    "execution": {
     "iopub.execute_input": "2022-01-06T22:38:15.379933Z",
     "iopub.status.busy": "2022-01-06T22:38:15.379748Z",
     "iopub.status.idle": "2022-01-06T22:38:31.531546Z",
     "shell.execute_reply": "2022-01-06T22:38:31.530736Z",
     "shell.execute_reply.started": "2022-01-06T22:38:15.37991Z"
    },
    "trusted": true
   },
   "outputs": [],
   "source": [
    "recommendations=Spotify_AI(playlist_personal,playlist_compare,False)\n",
    "recommendations.head()"
   ]
  },
  {
   "cell_type": "markdown",
   "metadata": {},
   "source": [
    "Looking at the top 5 in the list, I would say that the comparison did a good job on matching the type of audio asthetics I enjoy. It was tilted a bit towards Hip Hop with a strictly instrumental chistmas song and a country song. However, I would probably not add those to my playlist."
   ]
  },
  {
   "cell_type": "code",
   "execution_count": null,
   "metadata": {
    "execution": {
     "iopub.execute_input": "2022-01-06T22:38:31.532841Z",
     "iopub.status.busy": "2022-01-06T22:38:31.532629Z",
     "iopub.status.idle": "2022-01-06T22:38:41.570318Z",
     "shell.execute_reply": "2022-01-06T22:38:41.569458Z",
     "shell.execute_reply.started": "2022-01-06T22:38:31.532815Z"
    },
    "trusted": true
   },
   "outputs": [],
   "source": [
    "recommendations=Spotify_AI(playlist_personal,playlist_compare,True)\n",
    "recommendations.head()"
   ]
  },
  {
   "cell_type": "markdown",
   "metadata": {},
   "source": [
    "Wow! what a difference in my subjective opinion. Blinding Lights, Come Together, and Happier Than Ever would all be additions to my list. It looks like incorporating genre resulted in better performance."
   ]
  },
  {
   "cell_type": "markdown",
   "metadata": {},
   "source": [
    "# <H2 align = \"center\">4. Final Thoughts</H2>\n",
    "\n",
    "This system doesn't have an objective measure on it's performance other than my opinion. Like a lot of recommendation systems it is disadvantaged with a cold start before improving. The best way to improve performance would be to significantly increase my playlist and choose alternative comparison playlists that might be closer to the type of music I enjoy. I hope you enjoy tinkering with the process.\n",
    "\n",
    "<H3 align = \"center\">Happy Music Hunting</H3>"
   ]
  }
 ],
 "metadata": {
  "kaggle": {
   "accelerator": "none",
   "dataSources": [],
   "dockerImageVersionId": 30152,
   "isGpuEnabled": false,
   "isInternetEnabled": false,
   "language": "python",
   "sourceType": "notebook"
  },
  "kernelspec": {
   "display_name": "Python 3",
   "language": "python",
   "name": "python3"
  },
  "language_info": {
   "codemirror_mode": {
    "name": "ipython",
    "version": 3
   },
   "file_extension": ".py",
   "mimetype": "text/x-python",
   "name": "python",
   "nbconvert_exporter": "python",
   "pygments_lexer": "ipython3",
   "version": "3.11.4"
  }
 },
 "nbformat": 4,
 "nbformat_minor": 4
}
