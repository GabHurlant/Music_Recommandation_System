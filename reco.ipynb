{
 "cells": [
  {
   "cell_type": "markdown",
   "metadata": {},
   "source": [
    "#                                                       importations initiales"
   ]
  },
  {
   "cell_type": "code",
   "execution_count": 5,
   "metadata": {},
   "outputs": [],
   "source": [
    "import pandas as pd\n",
    "import numpy as np\n",
    "import seaborn as sns\n",
    "from sklearn.preprocessing import MinMaxScaler\n",
    "from sklearn.preprocessing import StandardScaler\n",
    "from sklearn.metrics.pairwise import cosine_similarity\n",
    "from sklearn.metrics import average_precision_score\n",
    "from sklearn.preprocessing import OneHotEncoder\n",
    "from sklearn.feature_extraction.text import TfidfVectorizer"
   ]
  },
  {
   "cell_type": "markdown",
   "metadata": {},
   "source": [
    "# lecture du dataset et base du système de reco"
   ]
  },
  {
   "cell_type": "code",
   "execution_count": 7,
   "metadata": {},
   "outputs": [
    {
     "name": "stdout",
     "output_type": "stream",
     "text": [
      "['Hail to the Thief', 'Abattoir Blues / The Lyre of Orpheus', 'Origin of Symmetry', 'Des visages des figures', 'The Nightly Disease', 'Linea gotica', 'The Bends', 'Unknown Pleasures', 'Meat Is Murder', 'Into the Wild']\n",
      "Mean Average Precision (MAP): 0.9539962698412701\n",
      "Mean Reciprocal Rank (MRR): 1.0\n"
     ]
    }
   ],
   "source": [
    "import pandas as pd\n",
    "import numpy as np\n",
    "from sklearn.metrics.pairwise import cosine_similarity\n",
    "from sklearn.metrics import average_precision_score\n",
    "from sklearn.feature_extraction.text import TfidfVectorizer\n",
    "\n",
    "# Lecture du fichier CSV\n",
    "music = pd.read_csv('rym_top_5000_all_time.csv')\n",
    "\n",
    "# Suppression des colonnes inutiles\n",
    "music = music.drop(columns=['Ranking', 'Average Rating', 'Number of Ratings', 'Number of Reviews'])\n",
    "\n",
    "# Encodage des genres\n",
    "music = pd.get_dummies(music, columns=['Genres'])\n",
    "\n",
    "# Remplacement des valeurs manquantes dans la colonne Descriptors par une chaîne vide\n",
    "music['Descriptors'] = music['Descriptors'].fillna('')\n",
    "\n",
    "# Transformation de la colonne Descriptors en vecteurs TF-IDF\n",
    "tfidf = TfidfVectorizer()\n",
    "tfidf_matrix = tfidf.fit_transform(music['Descriptors'])\n",
    "\n",
    "# Conversion de la matrice TF-IDF en DataFrame\n",
    "tfidf_df = pd.DataFrame(tfidf_matrix.toarray(), index=music.index, columns=tfidf.get_feature_names_out())\n",
    "\n",
    "# Conserver la colonne 'Album' pour les recommandations\n",
    "albums = music[['Album']]\n",
    "\n",
    "# Fusion des données TF-IDF avec les autres caractéristiques\n",
    "music = pd.concat([music.drop(columns=['Descriptors', 'Artist Name', 'Release Date', 'Album']), tfidf_df], axis=1)\n",
    "\n",
    "# Calcul de la similarité cosinus entre les albums\n",
    "similarity = cosine_similarity(music)\n",
    "\n",
    "# Création d'un DataFrame pour la matrice de similarité\n",
    "similarity_df = pd.DataFrame(similarity, index=albums.index, columns=albums.index)\n",
    "\n",
    "# Fonction de recommandation\n",
    "def get_recommendation(title, similarity_df, albums, top_n=10):\n",
    "    # Obtenir l'index de l'album donné\n",
    "    idx = albums[albums['Album'] == title].index[0]\n",
    "    # Obtenir les scores de similarité pour l'album donné\n",
    "    scores = similarity_df[idx].sort_values(ascending=False)\n",
    "    # Obtenir les noms des albums les plus similaires\n",
    "    similar_albums = albums.loc[scores.iloc[1:top_n+1].index, 'Album']\n",
    "    return similar_albums.tolist()\n",
    "\n",
    "# Utilisation de la fonction de recommandation\n",
    "print(get_recommendation('OK Computer', similarity_df, albums))\n",
    "\n",
    "# Fonction pour calculer le Reciprocal Rank\n",
    "def reciprocal_rank(y_true, y_scores):\n",
    "    \"\"\"Calculate the Reciprocal Rank.\"\"\"\n",
    "    sorted_indices = sorted(range(len(y_scores)), key=lambda i: y_scores[i], reverse=True)\n",
    "    for i in sorted_indices:\n",
    "        if y_true[i] == 1:  # Trouver le premier élément pertinent\n",
    "            return 1 / (i + 1)\n",
    "    return 0\n",
    "\n",
    "# Fonction d'évaluation\n",
    "def evaluation(similarity_df, albums, top_n=10):\n",
    "    \"\"\"Evaluate Mean Average Precision (MAP) and Mean Reciprocal Rank (MRR).\"\"\"\n",
    "    average_precisions = []\n",
    "    reciprocal_ranks = []\n",
    "\n",
    "    for idx in similarity_df.index:\n",
    "        # Obtenir les recommandations\n",
    "        recommendations = get_recommendation(albums.loc[idx, 'Album'], similarity_df, albums, top_n)\n",
    "\n",
    "        # Supposer que la première recommandation doit correspondre à l'album\n",
    "        y_true = [1] + [0] * (top_n - 1)\n",
    "        y_scores = [similarity_df.loc[idx, albums[albums['Album'] == rec].index[0]] for rec in recommendations]\n",
    "\n",
    "        # Calculer les métriques\n",
    "        average_precisions.append(average_precision_score(y_true, y_scores))\n",
    "        reciprocal_ranks.append(reciprocal_rank(y_true, y_scores))\n",
    "\n",
    "    # Calculer les scores moyens\n",
    "    mean_average_precision = sum(average_precisions) / len(average_precisions)\n",
    "    mean_reciprocal_rank = sum(reciprocal_ranks) / len(reciprocal_ranks)\n",
    "\n",
    "    return mean_average_precision, mean_reciprocal_rank\n",
    "\n",
    "# Évaluation du modèle\n",
    "map_score, mrr_score = evaluation(similarity_df, albums)\n",
    "print(f'Mean Average Precision (MAP): {map_score}')\n",
    "print(f'Mean Reciprocal Rank (MRR): {mrr_score}')"
   ]
  }
 ],
 "metadata": {
  "kernelspec": {
   "display_name": "Python 3",
   "language": "python",
   "name": "python3"
  },
  "language_info": {
   "codemirror_mode": {
    "name": "ipython",
    "version": 3
   },
   "file_extension": ".py",
   "mimetype": "text/x-python",
   "name": "python",
   "nbconvert_exporter": "python",
   "pygments_lexer": "ipython3",
   "version": "3.11.4"
  }
 },
 "nbformat": 4,
 "nbformat_minor": 2
}
