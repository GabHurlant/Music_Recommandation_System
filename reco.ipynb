{
 "cells": [
  {
   "cell_type": "markdown",
   "metadata": {},
   "source": [
    "#                                                       importations initiales"
   ]
  },
  {
   "cell_type": "code",
   "execution_count": 5,
   "metadata": {},
   "outputs": [],
   "source": [
    "import pandas as pd\n",
    "import numpy as np\n",
    "import seaborn as sns\n",
    "from sklearn.preprocessing import MinMaxScaler\n",
    "from sklearn.preprocessing import StandardScaler\n",
    "from sklearn.metrics.pairwise import cosine_similarity\n",
    "from sklearn.metrics import average_precision_score\n",
    "from sklearn.preprocessing import OneHotEncoder\n",
    "from sklearn.feature_extraction.text import TfidfVectorizer"
   ]
  },
  {
   "cell_type": "markdown",
   "metadata": {},
   "source": [
    "# lecture du dataset et base du système de reco"
   ]
  },
  {
   "cell_type": "code",
   "execution_count": 11,
   "metadata": {},
   "outputs": [
    {
     "name": "stdout",
     "output_type": "stream",
     "text": [
      "['Milo Goes to College', 'Lights Camera Revolution', 'Doolittle', 'Setting Sons', 'Suicidal Tendencies']\n"
     ]
    },
    {
     "ename": "KeyboardInterrupt",
     "evalue": "",
     "output_type": "error",
     "traceback": [
      "\u001b[1;31m---------------------------------------------------------------------------\u001b[0m",
      "\u001b[1;31mKeyboardInterrupt\u001b[0m                         Traceback (most recent call last)",
      "Cell \u001b[1;32mIn[11], line 85\u001b[0m\n\u001b[0;32m     82\u001b[0m     \u001b[38;5;28;01mreturn\u001b[39;00m mean_average_precision, mean_reciprocal_rank\n\u001b[0;32m     84\u001b[0m \u001b[38;5;66;03m# Évaluation du modèle\u001b[39;00m\n\u001b[1;32m---> 85\u001b[0m map_score, mrr_score \u001b[38;5;241m=\u001b[39m \u001b[43mevaluation\u001b[49m\u001b[43m(\u001b[49m\u001b[43msimilarity_df\u001b[49m\u001b[43m,\u001b[49m\u001b[43m \u001b[49m\u001b[43malbums\u001b[49m\u001b[43m)\u001b[49m\n\u001b[0;32m     86\u001b[0m \u001b[38;5;28mprint\u001b[39m(\u001b[38;5;124mf\u001b[39m\u001b[38;5;124m'\u001b[39m\u001b[38;5;124mMean Average Precision (MAP): \u001b[39m\u001b[38;5;132;01m{\u001b[39;00mmap_score\u001b[38;5;132;01m}\u001b[39;00m\u001b[38;5;124m'\u001b[39m)\n\u001b[0;32m     87\u001b[0m \u001b[38;5;28mprint\u001b[39m(\u001b[38;5;124mf\u001b[39m\u001b[38;5;124m'\u001b[39m\u001b[38;5;124mMean Reciprocal Rank (MRR): \u001b[39m\u001b[38;5;132;01m{\u001b[39;00mmrr_score\u001b[38;5;132;01m}\u001b[39;00m\u001b[38;5;124m'\u001b[39m)\n",
      "Cell \u001b[1;32mIn[11], line 68\u001b[0m, in \u001b[0;36mevaluation\u001b[1;34m(similarity_df, albums, top_n)\u001b[0m\n\u001b[0;32m     64\u001b[0m reciprocal_ranks \u001b[38;5;241m=\u001b[39m []\n\u001b[0;32m     66\u001b[0m \u001b[38;5;28;01mfor\u001b[39;00m idx \u001b[38;5;129;01min\u001b[39;00m similarity_df\u001b[38;5;241m.\u001b[39mindex:\n\u001b[0;32m     67\u001b[0m     \u001b[38;5;66;03m# Obtenir les recommandations\u001b[39;00m\n\u001b[1;32m---> 68\u001b[0m     recommendations \u001b[38;5;241m=\u001b[39m \u001b[43mget_recommendation\u001b[49m\u001b[43m(\u001b[49m\u001b[43malbums\u001b[49m\u001b[38;5;241;43m.\u001b[39;49m\u001b[43mloc\u001b[49m\u001b[43m[\u001b[49m\u001b[43midx\u001b[49m\u001b[43m,\u001b[49m\u001b[43m \u001b[49m\u001b[38;5;124;43m'\u001b[39;49m\u001b[38;5;124;43mAlbum\u001b[39;49m\u001b[38;5;124;43m'\u001b[39;49m\u001b[43m]\u001b[49m\u001b[43m,\u001b[49m\u001b[43m \u001b[49m\u001b[43msimilarity_df\u001b[49m\u001b[43m,\u001b[49m\u001b[43m \u001b[49m\u001b[43malbums\u001b[49m\u001b[43m,\u001b[49m\u001b[43m \u001b[49m\u001b[43mtop_n\u001b[49m\u001b[43m)\u001b[49m\n\u001b[0;32m     70\u001b[0m     \u001b[38;5;66;03m# Supposer que la première recommandation doit correspondre à l'album\u001b[39;00m\n\u001b[0;32m     71\u001b[0m     y_true \u001b[38;5;241m=\u001b[39m [\u001b[38;5;241m1\u001b[39m] \u001b[38;5;241m+\u001b[39m [\u001b[38;5;241m0\u001b[39m] \u001b[38;5;241m*\u001b[39m (top_n \u001b[38;5;241m-\u001b[39m \u001b[38;5;241m1\u001b[39m)\n",
      "Cell \u001b[1;32mIn[11], line 43\u001b[0m, in \u001b[0;36mget_recommendation\u001b[1;34m(title, similarity_df, albums, top_n)\u001b[0m\n\u001b[0;32m     41\u001b[0m idx \u001b[38;5;241m=\u001b[39m albums[albums[\u001b[38;5;124m'\u001b[39m\u001b[38;5;124mAlbum\u001b[39m\u001b[38;5;124m'\u001b[39m] \u001b[38;5;241m==\u001b[39m title]\u001b[38;5;241m.\u001b[39mindex[\u001b[38;5;241m0\u001b[39m]\n\u001b[0;32m     42\u001b[0m \u001b[38;5;66;03m# Obtenir les scores de similarité pour l'album donné\u001b[39;00m\n\u001b[1;32m---> 43\u001b[0m scores \u001b[38;5;241m=\u001b[39m \u001b[43msimilarity_df\u001b[49m\u001b[43m[\u001b[49m\u001b[43midx\u001b[49m\u001b[43m]\u001b[49m\u001b[38;5;241;43m.\u001b[39;49m\u001b[43msort_values\u001b[49m\u001b[43m(\u001b[49m\u001b[43mascending\u001b[49m\u001b[38;5;241;43m=\u001b[39;49m\u001b[38;5;28;43;01mFalse\u001b[39;49;00m\u001b[43m)\u001b[49m\n\u001b[0;32m     44\u001b[0m \u001b[38;5;66;03m# Obtenir les noms des albums les plus similaires\u001b[39;00m\n\u001b[0;32m     45\u001b[0m similar_albums \u001b[38;5;241m=\u001b[39m albums\u001b[38;5;241m.\u001b[39mloc[scores\u001b[38;5;241m.\u001b[39miloc[\u001b[38;5;241m1\u001b[39m:top_n\u001b[38;5;241m+\u001b[39m\u001b[38;5;241m1\u001b[39m]\u001b[38;5;241m.\u001b[39mindex, \u001b[38;5;124m'\u001b[39m\u001b[38;5;124mAlbum\u001b[39m\u001b[38;5;124m'\u001b[39m]\n",
      "File \u001b[1;32mc:\\Users\\Utilisateur\\AppData\\Local\\Programs\\Python\\Python311\\Lib\\site-packages\\pandas\\core\\series.py:3869\u001b[0m, in \u001b[0;36mSeries.sort_values\u001b[1;34m(self, axis, ascending, inplace, kind, na_position, ignore_index, key)\u001b[0m\n\u001b[0;32m   3867\u001b[0m \u001b[38;5;28;01melse\u001b[39;00m:\n\u001b[0;32m   3868\u001b[0m     values_to_sort \u001b[38;5;241m=\u001b[39m \u001b[38;5;28mself\u001b[39m\u001b[38;5;241m.\u001b[39m_values\n\u001b[1;32m-> 3869\u001b[0m sorted_index \u001b[38;5;241m=\u001b[39m \u001b[43mnargsort\u001b[49m\u001b[43m(\u001b[49m\u001b[43mvalues_to_sort\u001b[49m\u001b[43m,\u001b[49m\u001b[43m \u001b[49m\u001b[43mkind\u001b[49m\u001b[43m,\u001b[49m\u001b[43m \u001b[49m\u001b[38;5;28;43mbool\u001b[39;49m\u001b[43m(\u001b[49m\u001b[43mascending\u001b[49m\u001b[43m)\u001b[49m\u001b[43m,\u001b[49m\u001b[43m \u001b[49m\u001b[43mna_position\u001b[49m\u001b[43m)\u001b[49m\n\u001b[0;32m   3871\u001b[0m \u001b[38;5;28;01mif\u001b[39;00m is_range_indexer(sorted_index, \u001b[38;5;28mlen\u001b[39m(sorted_index)):\n\u001b[0;32m   3872\u001b[0m     \u001b[38;5;28;01mif\u001b[39;00m inplace:\n",
      "File \u001b[1;32mc:\\Users\\Utilisateur\\AppData\\Local\\Programs\\Python\\Python311\\Lib\\site-packages\\pandas\\core\\sorting.py:421\u001b[0m, in \u001b[0;36mnargsort\u001b[1;34m(items, kind, ascending, na_position, key, mask)\u001b[0m\n\u001b[0;32m    416\u001b[0m     \u001b[38;5;28;01mraise\u001b[39;00m \u001b[38;5;167;01mTypeError\u001b[39;00m(\n\u001b[0;32m    417\u001b[0m         \u001b[38;5;124m\"\u001b[39m\u001b[38;5;124mnargsort does not support MultiIndex. Use index.sort_values instead.\u001b[39m\u001b[38;5;124m\"\u001b[39m\n\u001b[0;32m    418\u001b[0m     )\n\u001b[0;32m    420\u001b[0m \u001b[38;5;28;01mif\u001b[39;00m mask \u001b[38;5;129;01mis\u001b[39;00m \u001b[38;5;28;01mNone\u001b[39;00m:\n\u001b[1;32m--> 421\u001b[0m     mask \u001b[38;5;241m=\u001b[39m np\u001b[38;5;241m.\u001b[39masarray(\u001b[43misna\u001b[49m\u001b[43m(\u001b[49m\u001b[43mitems\u001b[49m\u001b[43m)\u001b[49m)\n\u001b[0;32m    423\u001b[0m \u001b[38;5;28;01mif\u001b[39;00m \u001b[38;5;129;01mnot\u001b[39;00m \u001b[38;5;28misinstance\u001b[39m(items, np\u001b[38;5;241m.\u001b[39mndarray):\n\u001b[0;32m    424\u001b[0m     \u001b[38;5;66;03m# i.e. ExtensionArray\u001b[39;00m\n\u001b[0;32m    425\u001b[0m     \u001b[38;5;28;01mreturn\u001b[39;00m items\u001b[38;5;241m.\u001b[39margsort(\n\u001b[0;32m    426\u001b[0m         ascending\u001b[38;5;241m=\u001b[39mascending,\n\u001b[0;32m    427\u001b[0m         kind\u001b[38;5;241m=\u001b[39mkind,\n\u001b[0;32m    428\u001b[0m         na_position\u001b[38;5;241m=\u001b[39mna_position,\n\u001b[0;32m    429\u001b[0m     )\n",
      "File \u001b[1;32mc:\\Users\\Utilisateur\\AppData\\Local\\Programs\\Python\\Python311\\Lib\\site-packages\\pandas\\core\\dtypes\\missing.py:178\u001b[0m, in \u001b[0;36misna\u001b[1;34m(obj)\u001b[0m\n\u001b[0;32m    101\u001b[0m \u001b[38;5;28;01mdef\u001b[39;00m \u001b[38;5;21misna\u001b[39m(obj: \u001b[38;5;28mobject\u001b[39m) \u001b[38;5;241m-\u001b[39m\u001b[38;5;241m>\u001b[39m \u001b[38;5;28mbool\u001b[39m \u001b[38;5;241m|\u001b[39m npt\u001b[38;5;241m.\u001b[39mNDArray[np\u001b[38;5;241m.\u001b[39mbool_] \u001b[38;5;241m|\u001b[39m NDFrame:\n\u001b[0;32m    102\u001b[0m \u001b[38;5;250m    \u001b[39m\u001b[38;5;124;03m\"\"\"\u001b[39;00m\n\u001b[0;32m    103\u001b[0m \u001b[38;5;124;03m    Detect missing values for an array-like object.\u001b[39;00m\n\u001b[0;32m    104\u001b[0m \n\u001b[1;32m   (...)\u001b[0m\n\u001b[0;32m    176\u001b[0m \u001b[38;5;124;03m    Name: 1, dtype: bool\u001b[39;00m\n\u001b[0;32m    177\u001b[0m \u001b[38;5;124;03m    \"\"\"\u001b[39;00m\n\u001b[1;32m--> 178\u001b[0m     \u001b[38;5;28;01mreturn\u001b[39;00m \u001b[43m_isna\u001b[49m\u001b[43m(\u001b[49m\u001b[43mobj\u001b[49m\u001b[43m)\u001b[49m\n",
      "File \u001b[1;32mc:\\Users\\Utilisateur\\AppData\\Local\\Programs\\Python\\Python311\\Lib\\site-packages\\pandas\\core\\dtypes\\missing.py:207\u001b[0m, in \u001b[0;36m_isna\u001b[1;34m(obj, inf_as_na)\u001b[0m\n\u001b[0;32m    205\u001b[0m     \u001b[38;5;28;01mreturn\u001b[39;00m \u001b[38;5;28;01mFalse\u001b[39;00m\n\u001b[0;32m    206\u001b[0m \u001b[38;5;28;01melif\u001b[39;00m \u001b[38;5;28misinstance\u001b[39m(obj, (np\u001b[38;5;241m.\u001b[39mndarray, ABCExtensionArray)):\n\u001b[1;32m--> 207\u001b[0m     \u001b[38;5;28;01mreturn\u001b[39;00m \u001b[43m_isna_array\u001b[49m\u001b[43m(\u001b[49m\u001b[43mobj\u001b[49m\u001b[43m,\u001b[49m\u001b[43m \u001b[49m\u001b[43minf_as_na\u001b[49m\u001b[38;5;241;43m=\u001b[39;49m\u001b[43minf_as_na\u001b[49m\u001b[43m)\u001b[49m\n\u001b[0;32m    208\u001b[0m \u001b[38;5;28;01melif\u001b[39;00m \u001b[38;5;28misinstance\u001b[39m(obj, ABCIndex):\n\u001b[0;32m    209\u001b[0m     \u001b[38;5;66;03m# Try to use cached isna, which also short-circuits for integer dtypes\u001b[39;00m\n\u001b[0;32m    210\u001b[0m     \u001b[38;5;66;03m#  and avoids materializing RangeIndex._values\u001b[39;00m\n\u001b[0;32m    211\u001b[0m     \u001b[38;5;28;01mif\u001b[39;00m \u001b[38;5;129;01mnot\u001b[39;00m obj\u001b[38;5;241m.\u001b[39m_can_hold_na:\n",
      "File \u001b[1;32mc:\\Users\\Utilisateur\\AppData\\Local\\Programs\\Python\\Python311\\Lib\\site-packages\\pandas\\core\\dtypes\\missing.py:300\u001b[0m, in \u001b[0;36m_isna_array\u001b[1;34m(values, inf_as_na)\u001b[0m\n\u001b[0;32m    298\u001b[0m         result \u001b[38;5;241m=\u001b[39m \u001b[38;5;241m~\u001b[39mnp\u001b[38;5;241m.\u001b[39misfinite(values)\n\u001b[0;32m    299\u001b[0m     \u001b[38;5;28;01melse\u001b[39;00m:\n\u001b[1;32m--> 300\u001b[0m         result \u001b[38;5;241m=\u001b[39m \u001b[43mnp\u001b[49m\u001b[38;5;241;43m.\u001b[39;49m\u001b[43misnan\u001b[49m\u001b[43m(\u001b[49m\u001b[43mvalues\u001b[49m\u001b[43m)\u001b[49m\n\u001b[0;32m    302\u001b[0m \u001b[38;5;28;01mreturn\u001b[39;00m result\n",
      "\u001b[1;31mKeyboardInterrupt\u001b[0m: "
     ]
    }
   ],
   "source": [
    "import pandas as pd\n",
    "import numpy as np\n",
    "from sklearn.metrics.pairwise import cosine_similarity\n",
    "from sklearn.metrics import average_precision_score\n",
    "from sklearn.feature_extraction.text import TfidfVectorizer\n",
    "\n",
    "# Lecture du fichier CSV\n",
    "music = pd.read_csv('rym_top_5000_all_time.csv')\n",
    "\n",
    "# Suppression des colonnes inutiles\n",
    "music = music.drop(columns=['Ranking', 'Average Rating', 'Number of Ratings', 'Number of Reviews'])\n",
    "\n",
    "# Encodage des genres\n",
    "music = pd.get_dummies(music, columns=['Genres'])\n",
    "\n",
    "# Remplacement des valeurs manquantes dans la colonne Descriptors par une chaîne vide\n",
    "music['Descriptors'] = music['Descriptors'].fillna('')\n",
    "\n",
    "# Transformation de la colonne Descriptors en vecteurs TF-IDF\n",
    "tfidf = TfidfVectorizer()\n",
    "tfidf_matrix = tfidf.fit_transform(music['Descriptors'])\n",
    "\n",
    "# Conversion de la matrice TF-IDF en DataFrame\n",
    "tfidf_df = pd.DataFrame(tfidf_matrix.toarray(), index=music.index, columns=tfidf.get_feature_names_out())\n",
    "\n",
    "# Conserver la colonne 'Album' pour les recommandations\n",
    "albums = music[['Album']]\n",
    "\n",
    "# Fusion des données TF-IDF avec les autres caractéristiques\n",
    "music = pd.concat([music.drop(columns=['Descriptors', 'Artist Name', 'Release Date', 'Album']), tfidf_df], axis=1)\n",
    "\n",
    "# Calcul de la similarité cosinus entre les albums\n",
    "similarity = cosine_similarity(music)\n",
    "\n",
    "# Création d'un DataFrame pour la matrice de similarité\n",
    "similarity_df = pd.DataFrame(similarity, index=albums.index, columns=albums.index)\n",
    "\n",
    "# Fonction de recommandation\n",
    "def get_recommendation(title, similarity_df, albums, top_n=5):\n",
    "    # Obtenir l'index de l'album donné\n",
    "    idx = albums[albums['Album'] == title].index[0]\n",
    "    # Obtenir les scores de similarité pour l'album donné\n",
    "    scores = similarity_df[idx].sort_values(ascending=False)\n",
    "    # Obtenir les noms des albums les plus similaires\n",
    "    similar_albums = albums.loc[scores.iloc[1:top_n+1].index, 'Album']\n",
    "    return similar_albums.tolist()\n",
    "\n",
    "# Utilisation de la fonction de recommandation\n",
    "print(get_recommendation('Ok Computer', similarity_df, albums))\n",
    "\n",
    "# Fonction pour calculer le Reciprocal Rank\n",
    "def reciprocal_rank(y_true, y_scores):\n",
    "    \"\"\"Calculate the Reciprocal Rank.\"\"\"\n",
    "    sorted_indices = sorted(range(len(y_scores)), key=lambda i: y_scores[i], reverse=True)\n",
    "    for i in sorted_indices:\n",
    "        if y_true[i] == 1:  # Trouver le premier élément pertinent\n",
    "            return 1 / (i + 1)\n",
    "    return 0\n",
    "\n",
    "# Fonction d'évaluation\n",
    "def evaluation(similarity_df, albums, top_n=10):\n",
    "    \"\"\"Evaluate Mean Average Precision (MAP) and Mean Reciprocal Rank (MRR).\"\"\"\n",
    "    average_precisions = []\n",
    "    reciprocal_ranks = []\n",
    "\n",
    "    for idx in similarity_df.index:\n",
    "        # Obtenir les recommandations\n",
    "        recommendations = get_recommendation(albums.loc[idx, 'Album'], similarity_df, albums, top_n)\n",
    "\n",
    "        # Supposer que la première recommandation doit correspondre à l'album\n",
    "        y_true = [1] + [0] * (top_n - 1)\n",
    "        y_scores = [similarity_df.loc[idx, albums[albums['Album'] == rec].index[0]] for rec in recommendations]\n",
    "\n",
    "        # Calculer les métriques\n",
    "        average_precisions.append(average_precision_score(y_true, y_scores))\n",
    "        reciprocal_ranks.append(reciprocal_rank(y_true, y_scores))\n",
    "\n",
    "    # Calculer les scores moyens\n",
    "    mean_average_precision = sum(average_precisions) / len(average_precisions)\n",
    "    mean_reciprocal_rank = sum(reciprocal_ranks) / len(reciprocal_ranks)\n",
    "\n",
    "    return mean_average_precision, mean_reciprocal_rank\n",
    "\n",
    "# Évaluation du modèle\n",
    "map_score, mrr_score = evaluation(similarity_df, albums)\n",
    "print(f'Mean Average Precision (MAP): {map_score}')\n",
    "print(f'Mean Reciprocal Rank (MRR): {mrr_score}')"
   ]
  }
 ],
 "metadata": {
  "kernelspec": {
   "display_name": "Python 3",
   "language": "python",
   "name": "python3"
  },
  "language_info": {
   "codemirror_mode": {
    "name": "ipython",
    "version": 3
   },
   "file_extension": ".py",
   "mimetype": "text/x-python",
   "name": "python",
   "nbconvert_exporter": "python",
   "pygments_lexer": "ipython3",
   "version": "3.11.4"
  }
 },
 "nbformat": 4,
 "nbformat_minor": 2
}
