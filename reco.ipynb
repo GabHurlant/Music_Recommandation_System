{
 "cells": [
  {
   "cell_type": "markdown",
   "metadata": {},
   "source": [
    "#                                                       importations initiales"
   ]
  },
  {
   "cell_type": "code",
   "execution_count": 24,
   "metadata": {},
   "outputs": [],
   "source": [
    "import pandas as pd\n",
    "import numpy as np\n",
    "import seaborn as sns\n",
    "from sklearn.preprocessing import MinMaxScaler\n",
    "from sklearn.preprocessing import StandardScaler\n",
    "from sklearn.metrics.pairwise import cosine_similarity\n",
    "from sklearn.metrics import average_precision_score\n",
    "from sklearn.preprocessing import OneHotEncoder"
   ]
  },
  {
   "cell_type": "markdown",
   "metadata": {},
   "source": [
    "# lecture du dataset et base du système de reco"
   ]
  },
  {
   "cell_type": "code",
   "execution_count": 25,
   "metadata": {},
   "outputs": [
    {
     "name": "stdout",
     "output_type": "stream",
     "text": [
      "['Hail to the Thief', 'Linea gotica', 'The Nightly Disease', 'Origin of Symmetry', 'Des visages des figures', 'OK Computer', \"Sgt. Pepper's Lonely Hearts Club Band\", 'The True Meaning', 'Racional vol. 2', 'In the Court of the Crimson King']\n"
     ]
    },
    {
     "ename": "TypeError",
     "evalue": "DataFrame.sort_values() missing 1 required positional argument: 'by'",
     "output_type": "error",
     "traceback": [
      "\u001b[1;31m---------------------------------------------------------------------------\u001b[0m",
      "\u001b[1;31mTypeError\u001b[0m                                 Traceback (most recent call last)",
      "Cell \u001b[1;32mIn[25], line 60\u001b[0m\n\u001b[0;32m     57\u001b[0m     \u001b[38;5;28;01mreturn\u001b[39;00m mean_average_precision, mean_reciprocal_rank\n\u001b[0;32m     59\u001b[0m \u001b[38;5;66;03m# Évaluation du modèle\u001b[39;00m\n\u001b[1;32m---> 60\u001b[0m map_score, mrr_score \u001b[38;5;241m=\u001b[39m \u001b[43mevaluation\u001b[49m\u001b[43m(\u001b[49m\u001b[43msimilarity_df\u001b[49m\u001b[43m)\u001b[49m\n\u001b[0;32m     61\u001b[0m \u001b[38;5;28mprint\u001b[39m(\u001b[38;5;124mf\u001b[39m\u001b[38;5;124m'\u001b[39m\u001b[38;5;124mMean Average Precision (MAP): \u001b[39m\u001b[38;5;132;01m{\u001b[39;00mmap_score\u001b[38;5;132;01m}\u001b[39;00m\u001b[38;5;124m'\u001b[39m)\n\u001b[0;32m     62\u001b[0m \u001b[38;5;28mprint\u001b[39m(\u001b[38;5;124mf\u001b[39m\u001b[38;5;124m'\u001b[39m\u001b[38;5;124mMean Reciprocal Rank (MRR): \u001b[39m\u001b[38;5;132;01m{\u001b[39;00mmrr_score\u001b[38;5;132;01m}\u001b[39;00m\u001b[38;5;124m'\u001b[39m)\n",
      "Cell \u001b[1;32mIn[25], line 43\u001b[0m, in \u001b[0;36mevaluation\u001b[1;34m(similarity_df, top_n)\u001b[0m\n\u001b[0;32m     39\u001b[0m reciprocal_ranks \u001b[38;5;241m=\u001b[39m []\n\u001b[0;32m     41\u001b[0m \u001b[38;5;28;01mfor\u001b[39;00m album \u001b[38;5;129;01min\u001b[39;00m similarity_df\u001b[38;5;241m.\u001b[39mindex:\n\u001b[0;32m     42\u001b[0m     \u001b[38;5;66;03m# Obtenir les recommandations\u001b[39;00m\n\u001b[1;32m---> 43\u001b[0m     recommendations \u001b[38;5;241m=\u001b[39m \u001b[43mget_recommendation\u001b[49m\u001b[43m(\u001b[49m\u001b[43malbum\u001b[49m\u001b[43m,\u001b[49m\u001b[43m \u001b[49m\u001b[43msimilarity_df\u001b[49m\u001b[43m,\u001b[49m\u001b[43m \u001b[49m\u001b[43mtop_n\u001b[49m\u001b[43m)\u001b[49m\n\u001b[0;32m     45\u001b[0m     \u001b[38;5;66;03m# Supposer que la première recommandation doit correspondre à l'album\u001b[39;00m\n\u001b[0;32m     46\u001b[0m     y_true \u001b[38;5;241m=\u001b[39m [\u001b[38;5;241m1\u001b[39m] \u001b[38;5;241m+\u001b[39m [\u001b[38;5;241m0\u001b[39m] \u001b[38;5;241m*\u001b[39m (top_n \u001b[38;5;241m-\u001b[39m \u001b[38;5;241m1\u001b[39m)\n",
      "Cell \u001b[1;32mIn[25], line 19\u001b[0m, in \u001b[0;36mget_recommendation\u001b[1;34m(title, similarity_df, top_n)\u001b[0m\n\u001b[0;32m     17\u001b[0m \u001b[38;5;28;01mdef\u001b[39;00m \u001b[38;5;21mget_recommendation\u001b[39m(title, similarity_df, top_n\u001b[38;5;241m=\u001b[39m\u001b[38;5;241m10\u001b[39m):\n\u001b[0;32m     18\u001b[0m     \u001b[38;5;66;03m# Obtenir les scores de similarité pour l'album donné\u001b[39;00m\n\u001b[1;32m---> 19\u001b[0m     scores \u001b[38;5;241m=\u001b[39m \u001b[43msimilarity_df\u001b[49m\u001b[43m[\u001b[49m\u001b[43mtitle\u001b[49m\u001b[43m]\u001b[49m\u001b[38;5;241;43m.\u001b[39;49m\u001b[43msort_values\u001b[49m\u001b[43m(\u001b[49m\u001b[43mascending\u001b[49m\u001b[38;5;241;43m=\u001b[39;49m\u001b[38;5;28;43;01mFalse\u001b[39;49;00m\u001b[43m)\u001b[49m\n\u001b[0;32m     20\u001b[0m     \u001b[38;5;66;03m# Obtenir les noms des albums les plus similaires\u001b[39;00m\n\u001b[0;32m     21\u001b[0m     \u001b[38;5;28;01mreturn\u001b[39;00m scores\u001b[38;5;241m.\u001b[39miloc[\u001b[38;5;241m1\u001b[39m:top_n\u001b[38;5;241m+\u001b[39m\u001b[38;5;241m1\u001b[39m]\u001b[38;5;241m.\u001b[39mindex\u001b[38;5;241m.\u001b[39mtolist()\n",
      "\u001b[1;31mTypeError\u001b[0m: DataFrame.sort_values() missing 1 required positional argument: 'by'"
     ]
    }
   ],
   "source": [
    "\n",
    "# Lecture du fichier CSV\n",
    "music = pd.read_csv('rym_top_5000_all_time.csv')\n",
    "\n",
    "# Suppression des colonnes inutiles\n",
    "music = music.drop(columns=['Descriptors', 'Ranking', 'Average Rating', 'Number of Ratings', 'Number of Reviews'])\n",
    "\n",
    "# Encodage des genres\n",
    "music = pd.get_dummies(music, columns=['Genres'])\n",
    "\n",
    "# Calcul de la similarité cosinus entre les albums\n",
    "similarity = cosine_similarity(music.drop(columns=['Artist Name', 'Release Date', 'Album']))\n",
    "\n",
    "# Création d'un DataFrame pour la matrice de similarité\n",
    "similarity_df = pd.DataFrame(similarity, index=music['Album'], columns=music['Album'])\n",
    "\n",
    "# Fonction de recommandation\n",
    "def get_recommendation(title, similarity_df, top_n=10):\n",
    "    # Obtenir les scores de similarité pour l'album donné\n",
    "    scores = similarity_df[title].sort_values(ascending=False)\n",
    "    # Obtenir les noms des albums les plus similaires\n",
    "    return scores.iloc[1:top_n+1].index.tolist()\n",
    "\n",
    "# Utilisation de la fonction de recommandation\n",
    "print(get_recommendation('OK Computer', similarity_df))\n",
    "\n",
    "# Fonction pour calculer le Reciprocal Rank\n",
    "def reciprocal_rank(y_true, y_scores):\n",
    "    \"\"\"Calculate the Reciprocal Rank.\"\"\"\n",
    "    sorted_indices = sorted(range(len(y_scores)), key=lambda i: y_scores[i], reverse=True)\n",
    "    for i in sorted_indices:\n",
    "        if y_true[i] == 1:  # Trouver le premier élément pertinent\n",
    "            return 1 / (i + 1)\n",
    "    return 0\n",
    "\n",
    "# Fonction d'évaluation\n",
    "def evaluation(similarity_df, top_n=10):\n",
    "    \"\"\"Evaluate Mean Average Precision (MAP) and Mean Reciprocal Rank (MRR).\"\"\"\n",
    "    average_precisions = []\n",
    "    reciprocal_ranks = []\n",
    "\n",
    "    for album in similarity_df.index:\n",
    "        # Obtenir les recommandations\n",
    "        recommendations = get_recommendation(album, similarity_df, top_n)\n",
    "\n",
    "        # Supposer que la première recommandation doit correspondre à l'album\n",
    "        y_true = [1] + [0] * (top_n - 1)\n",
    "        y_scores = [similarity_df.loc[album, rec] for rec in recommendations]\n",
    "\n",
    "        # Calculer les métriques\n",
    "        average_precisions.append(average_precision_score(y_true, y_scores))\n",
    "        reciprocal_ranks.append(reciprocal_rank(y_true, y_scores))\n",
    "\n",
    "    # Calculer les scores moyens\n",
    "    mean_average_precision = sum(average_precisions) / len(average_precisions)\n",
    "    mean_reciprocal_rank = sum(reciprocal_ranks) / len(reciprocal_ranks)\n",
    "\n",
    "    return mean_average_precision, mean_reciprocal_rank\n",
    "\n",
    "# Évaluation du modèle\n",
    "map_score, mrr_score = evaluation(similarity_df)\n",
    "print(f'Mean Average Precision (MAP): {map_score}')\n",
    "print(f'Mean Reciprocal Rank (MRR): {mrr_score}')"
   ]
  }
 ],
 "metadata": {
  "kernelspec": {
   "display_name": "Python 3",
   "language": "python",
   "name": "python3"
  },
  "language_info": {
   "codemirror_mode": {
    "name": "ipython",
    "version": 3
   },
   "file_extension": ".py",
   "mimetype": "text/x-python",
   "name": "python",
   "nbconvert_exporter": "python",
   "pygments_lexer": "ipython3",
   "version": "3.11.4"
  }
 },
 "nbformat": 4,
 "nbformat_minor": 2
}
